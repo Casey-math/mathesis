{
 "cells": [
  {
   "cell_type": "code",
   "execution_count": 1,
   "id": "ad121766-f7cc-4e5e-aaf6-f79e548ad408",
   "metadata": {},
   "outputs": [],
   "source": [
    "#include <iostream>"
   ]
  },
  {
   "cell_type": "code",
   "execution_count": 7,
   "id": "0d1f43bd-707f-4ec1-a03a-79d1aac127a6",
   "metadata": {},
   "outputs": [
    {
     "name": "stderr",
     "output_type": "stream",
     "text": [
      "\u001b[1minput_line_16:2:29: \u001b[0m\u001b[0;1;31merror: \u001b[0m\u001b[1muse of undeclared identifier 'endl'\u001b[0m\n",
      " std::cout<<\"hello world\"<< endl ;\n",
      "\u001b[0;1;32m                            ^\n",
      "\u001b[0m"
     ]
    },
    {
     "ename": "Interpreter Error",
     "evalue": "",
     "output_type": "error",
     "traceback": [
      "Interpreter Error: "
     ]
    }
   ],
   "source": [
    "std::cout<<\"hello world\"<<  ;\n"
   ]
  },
  {
   "cell_type": "code",
   "execution_count": null,
   "id": "da697312-42d6-4019-80b7-1084cedb67f4",
   "metadata": {},
   "outputs": [],
   "source": []
  }
 ],
 "metadata": {
  "kernelspec": {
   "display_name": "C++11",
   "language": "C++11",
   "name": "xcpp11"
  },
  "language_info": {
   "codemirror_mode": "text/x-c++src",
   "file_extension": ".cpp",
   "mimetype": "text/x-c++src",
   "name": "c++",
   "version": "11"
  }
 },
 "nbformat": 4,
 "nbformat_minor": 5
}
