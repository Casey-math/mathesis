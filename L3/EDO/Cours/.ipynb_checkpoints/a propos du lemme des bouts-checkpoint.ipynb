{
 "cells": [
  {
   "cell_type": "markdown",
   "id": "0f5daf7f-5fde-491a-a259-85012619a253",
   "metadata": {},
   "source": [
    "| A propos du lemme des bouts EDO  |      /     | Notes de cours et compléments |\n",
    "| :--------------- |:---------------:| -----:|\n",
    "## $$\\mathcal{F.J}$$\n",
    "\n",
    "\n"
   ]
  },
  {
   "cell_type": "markdown",
   "id": "18d6d8e3-e91b-456f-9259-90b2494b4950",
   "metadata": {},
   "source": [
    "**Rappel :** Si \n",
    "$f:\n",
    "\\begin{cases}\n",
    "  I \\times U \\to \\mathbb{R}^n,\\\\\n",
    "  (t,y) \\mapsto f(t,y)\n",
    "\\end{cases},\n",
    "$\n",
    "est continue et **localement lipschitzienne** par rapport à $y$, avec $(t_0,y_0) \\in I \\times U$ alors le problème de Cauchy $\n",
    "\\begin{cases}\n",
    "  y'=f(t,y),\\\\\n",
    "  y(t_0)=y_0.\n",
    "\\end{cases}\n",
    "$ admet une **unique** solution **maximale** $y(t)$ de $J$ dans $\\mathbb{R}^n$ avec $J$ un intervalle ouvert $J = ]T_-, T^+[ \\subset ]a,b[$."
   ]
  },
  {
   "cell_type": "markdown",
   "id": "8702641b-e744-4c05-a947-4ccc70a6fdcf",
   "metadata": {},
   "source": [
    "**Question :** Quand est-ce que $J$, *(l'intervalle de définition de la solution maximale $t \\mapsto y(t)$ du PC)* vérifie $J = ]a,b[$, c'est à dire quand est-ce que la solution $y$ est **globale** ?\n",
    "\n",
    "$\\to$ Le lemme des bouts donne une réponse partielle à cette question lorsque $U = \\mathbb{R}$"
   ]
  },
  {
   "cell_type": "markdown",
   "id": "754fcfe0-00e7-49cb-a554-8641cf2c4a28",
   "metadata": {},
   "source": [
    "**Théorème :** Soit $f : I = ]a,b[ \\times \\mathbb{R}^n \\to \\mathbb{R}^n$ continue et localement lipschitzienne par rapport à sa seconde variable.\n",
    "\n",
    "Soit $(t_0,y_0) \\in I \\times \\mathbb{R}^n$\n",
    "\n",
    "Soit $y : J \\to \\mathbb{R}^n$ la solution maximale du problème de Cauchy"
   ]
  },
  {
   "cell_type": "code",
   "execution_count": null,
   "id": "94b3d619-a2c1-4880-aa06-cdadfd17a5d4",
   "metadata": {},
   "outputs": [],
   "source": []
  }
 ],
 "metadata": {
  "kernelspec": {
   "display_name": "Python 3 (ipykernel)",
   "language": "python",
   "name": "python3"
  },
  "language_info": {
   "codemirror_mode": {
    "name": "ipython",
    "version": 3
   },
   "file_extension": ".py",
   "mimetype": "text/x-python",
   "name": "python",
   "nbconvert_exporter": "python",
   "pygments_lexer": "ipython3",
   "version": "3.11.6"
  }
 },
 "nbformat": 4,
 "nbformat_minor": 5
}
