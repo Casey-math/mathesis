{
 "cells": [
  {
   "cell_type": "markdown",
   "id": "381147ec-794f-4fdf-847f-cb7025ba7d00",
   "metadata": {},
   "source": [
    "| Approximation numérique des EDO  |      /     | Notes de cours et compléments |\n",
    "| :--------------- |:---------------:| -----:|\n",
    "## $$\\mathcal{F.J}$$\n",
    "\n",
    "\n"
   ]
  },
  {
   "cell_type": "markdown",
   "id": "38fc9022-41a4-49d9-98be-14e26df8fc5b",
   "metadata": {},
   "source": [
    "# O. **Mise en contexte & rappels :**"
   ]
  },
  {
   "cell_type": "markdown",
   "id": "cb4a0c92-86f1-4a64-a4dd-632850c9c199",
   "metadata": {},
   "source": [
    "On s'intéresse ici aux **(PC)** : \n",
    "$$\n",
    "\\begin{cases}\n",
    "  y'=f(t,y),\\\\\n",
    "  y(t_0)=y_0.\n",
    "\\end{cases}\n",
    "$$\n",
    "avec : \n",
    "$$f:\n",
    "\\begin{cases}\n",
    "  I \\times U \\to \\mathbb{R}^n,\\\\\n",
    "  (t,y) \\mapsto f(t,y).\n",
    "\\end{cases}\n",
    "$$\n",
    "Continue et localement lipschitzienne par rapport à $y$.\n",
    "\n",
    "$I$ est un intervalle ouvert de $\\mathbb{R}$ et $U$ est un ouvert de $\\mathbb{R}^n$."
   ]
  },
  {
   "cell_type": "markdown",
   "id": "5adf723e-6eb8-47a2-8d91-6f11aba915c9",
   "metadata": {},
   "source": [
    "## **Objectif :** \n",
    "$\\to ~$ Approcher la solution maximale $t \\mapsto y(t)$ de (PC) dans un intervalle de la forme $[t_0, t_0 + T]$ par une \"solution discrète\" ou \"numérique\"."
   ]
  },
  {
   "cell_type": "markdown",
   "id": "fd9a807f-4495-45e6-ad94-af7c7425e7be",
   "metadata": {},
   "source": [
    "> **Définition :** On appelle méthode numérique *(ou schéma numérique)* pour approcher la solution de **(PC)** dans $[t_0, t_0 + T]$ :    \n",
    "> $\\star ~$ La donnée d'une suite de points $(t_0, t_1,..., t_n)_{n \\in \\mathbb{N}}$ correspondant à une subdivision de l'intervalle $[t_0, t_0 + T]$ ;    \n",
    "> $\\star ~$ La donnée d'une suite de valeurs $(y^0, y^1,..., y^n)_{n \\in \\mathbb{N}}$ censées approcher la solution exacte de **(PC)** aux points de la subdivision."
   ]
  },
  {
   "cell_type": "markdown",
   "id": "413f6573-1b89-45dc-9d2b-0df0ea66ca91",
   "metadata": {},
   "source": [
    "## **Question :**\n",
    "Comment contruire un tel schéma ?"
   ]
  },
  {
   "attachments": {},
   "cell_type": "markdown",
   "id": "f9761eb9-b4dc-4270-b519-83e9ff934f18",
   "metadata": {},
   "source": [
    "### Commençons par un bref rappel sur les **formules de quadrature**\n",
    "- Les formules de quadrature sont des formules approchées de calcul d’intégrales\n",
    "de Riemann du type : $$ I:= \\displaystyle \\int_{a}^{b} f(x) \\, \\mathrm{d}x$$ Si on considère une subdivision de l'intervalle $[a,b]$ sous la forme $[a = x_0, x_1,...,x_{n-1}, x_n = b]$, on se ramène à calculer pour chaque $i$ : $$\\displaystyle \\int_{x_i}^{x_{i+1}} f(x) \\, \\mathrm{d}x$$\n",
    "    - **Les rectangles à droite :** On prend la borne de droite de $I$, on a donc l'approximation : $$I \\approx \\frac{b-a}{n}\\sum_{i=1}^{n}f(a+ i \\frac{b-a}{n})$$\n",
    "Pour chaque $i$ on a donc :\n",
    "$$\\displaystyle \\int_{x_i}^{x_{i+1}} f(x) \\, \\mathrm{d}x = (x_{i+1} - x_i)f(x_{i+1})$$\n",
    "        <div style=\"text-align: center;\">\n",
    "            <img src=\"rect_droite.png\" alt=\"rect_gauche.png\" style=\"width: 200px;\"/>\n",
    "        </div>\n",
    "\n",
    "    - **Les rectangles à gauche :** On prend la borne de gauche de $I$, on a donc l'approximation : $$I \\approx \\frac{b-a}{n}\\sum_{i=0}^{n-1}f(a+ i \\frac{b-a}{n})$$\n",
    "Pour chaque $i$ on a donc :\n",
    "$$\\displaystyle \\int_{x_i}^{x_{i+1}} f(x) \\, \\mathrm{d}x = (x_{i+1} - x_i)f(x_{i})$$\n",
    "        <div style=\"text-align: center;\">\n",
    "            <img src=\"rect_gauche.png\" alt=\"rect_gauche.png\" style=\"width: 200px;\" />\n",
    "        </div>\n",
    "    - **Les trapèzes :** On prend l'aire du trapèze : $\\mathcal{A} = (b-a) \\frac{f(a)+f(b)}{2}$\n",
    "      \n",
    "<div style=\"text-align: center;\">\n",
    "    <img src=\"Trapeze.png\" alt=\"rect_gauche.png\" style=\"width: 200px;\" />\n",
    "</div>   \n",
    "Autrement dit, on a donc l'approximation de $$I \\approx \\frac{b-a}{n} \\sum_{i = 0}^{n-1}f \\Big( a+i \\Big( \\frac{b-a}{n} \\Big) \\Big) + f \\Big( a+(i+1) \\Big( \\frac{b-a}{n} \\Big) \\Big)$$\n",
    "        Pour chaque $i$ on a donc :\n",
    "$$\\displaystyle \\int_{x_i}^{x_{i+1}} f(x) \\, \\mathrm{d}x = (x_{i+1} - x_i)\\frac{f(x_i)+f(x_{i+1})}{2}$$\n",
    "    "
   ]
  },
  {
   "cell_type": "markdown",
   "id": "6d7998ef-0ae2-4967-b39e-608e43f3a5c5",
   "metadata": {},
   "source": [
    "### Revenons à nos moutons"
   ]
  },
  {
   "cell_type": "markdown",
   "id": "7e4b7df5-965a-423d-b6aa-1f2e1ccefe85",
   "metadata": {},
   "source": [
    "Pour construire un tel schéma on peut :"
   ]
  },
  {
   "cell_type": "markdown",
   "id": "3cbb371c-e047-4187-a8e8-5632e7f5bd3c",
   "metadata": {},
   "source": [
    "1. Etant donné $N \\in \\mathbb{N}$, considérer une subdivision de $[t_0, t_0 + T]$ définie par les $N+1$ points : $t_0 < t_1 < ... < t_N = t_0 + T$"
   ]
  },
  {
   "cell_type": "markdown",
   "id": "3d0f3109-4ea2-4b70-8565-885c5de54756",
   "metadata": {},
   "source": [
    "2. Construire pour chaque $N \\in \\mathbb{N}$ des valeurs aprochées $(y^0,...,y^N)$ telles que $y^n \\approx y(t_n)$, c'est à dire telles que $y^n$ approche la solution exacte $t \\mapsto y(t)$ du **(PC)** à l'instant $t_n$."
   ]
  },
  {
   "cell_type": "markdown",
   "id": "c675e155-b336-4fdf-985d-522a2144085d",
   "metadata": {},
   "source": [
    "# I. **Une première approche pour construire des schémas numériques :**"
   ]
  },
  {
   "cell_type": "markdown",
   "id": "79f375ff-8240-445f-9613-d853e3b41f39",
   "metadata": {},
   "source": [
    "### 1. **Schéma d'Euler explicite**"
   ]
  },
  {
   "cell_type": "markdown",
   "id": "43ad2bad-e3ab-4426-9c00-e1cabc91e186",
   "metadata": {},
   "source": [
    "On sait que la solution exacte du **PC** vérifie : $y'(t_n) = f(t_n,y(t_n))$, $~\\forall n \\in \\{0,...,N\\}$."
   ]
  },
  {
   "cell_type": "markdown",
   "id": "75b3b7e1-656d-4ecd-bbcd-2bad536c6988",
   "metadata": {},
   "source": [
    "Si la quantité $h = \\frac{T}{N}$ est petite, on a l'approximation : $$y'(t_n) \\approx \\frac{y(t_n + h) - y(t_n)}{h}$$"
   ]
  },
  {
   "cell_type": "markdown",
   "id": "088a33ce-1efc-4cc7-b058-c0621e0c460a",
   "metadata": {},
   "source": [
    "Donc la solution explicite de **PC** vérifie : $$f(t_n,y(t_n)) \\approx \\frac{y(t_n + h) - y(t_n)}{h}$$"
   ]
  },
  {
   "cell_type": "markdown",
   "id": "f6491ebe-1ff0-48fa-af19-3c244ee0f706",
   "metadata": {},
   "source": [
    "Mais $t_n + h = t_{n+1}$, donc on à : $$f(t_n,y(t_n)) \\approx \\frac{y(t_{n+1}) - y(t_n)}{h}$$"
   ]
  },
  {
   "cell_type": "markdown",
   "id": "2190658c-8ea6-4ef9-915a-930e21a9dfe0",
   "metadata": {},
   "source": [
    "Avec la notation $y(t_n) = y^n$ on cherche donc les valeurs $(y^0,...,y^n)$ telles que : \n",
    "$$\\frac{y^{n+1} - y^n}{h} = f(t_n, y^n)  \\iff y^{n+1} = y^n + h f(t_n,y^n), ~ \\forall n \\in \\{0,...,N-1\\}$$\n",
    "Avec $y^0 = y_0$, valeur de l solution exacte en $t_0$ *(puisque $~t \\mapsto y(t)$ vérifie $y(t_0) = y_0$)*."
   ]
  },
  {
   "cell_type": "markdown",
   "id": "c4ff8812-1414-4305-8e1b-c5e3920dba24",
   "metadata": {},
   "source": [
    "On a donc définie un schéma, appelé **schéma d'Euler explicite** : \n",
    "$$\n",
    "\\begin{cases}\n",
    "  y^0=y_0,\\\\\n",
    "  y^{n+1} =y^n + hf(t_n, y^n)\n",
    "\\end{cases}, ~ \\forall n \\in \\{0,...,N-1\\}\n",
    "$$"
   ]
  },
  {
   "cell_type": "markdown",
   "id": "1c31b618-0149-4b99-89f8-e0131764603b",
   "metadata": {},
   "source": [
    "### 2. **Schéma d'Euler implicite**"
   ]
  },
  {
   "cell_type": "markdown",
   "id": "5bc68367-a399-4b79-8b21-aa11dbe41236",
   "metadata": {},
   "source": [
    "Si on part de l'égalité $y'(t_{n+1}) = f(t_{n+1},y(t_{n+1}))$, $~\\forall n \\in \\{0,...,N-1\\}$ et que l'on approche $y'(t_{n+1})$ par $\\frac{y(t_{n+1}) - y(t_{n+1} - h)}{h}$, on obtient le **schéma d'Euler implicite** donné par la suite :\n",
    "$$\n",
    "\\begin{cases}\n",
    "  y^0=y_0,\\\\\n",
    "  y^{n+1} =y^n + hf(t_{n+1}, y^{n+1})\n",
    "\\end{cases}, ~ \\forall n \\in \\{0,...,N-1\\}\n",
    "$$"
   ]
  },
  {
   "cell_type": "markdown",
   "id": "c49e21db-b3c0-4225-85be-eececdb36845",
   "metadata": {},
   "source": [
    "# II. **Une deuxième approche pour construire des schémas numériques :**"
   ]
  },
  {
   "cell_type": "markdown",
   "id": "a20a076a-a160-4f19-bd42-44bba5d15c09",
   "metadata": {},
   "source": [
    "- On sait que la solution exacte du **PC** vérifie : $$y'(t) = f(t, y(t)), ~ \\forall t \\in [t_0, t_0 +T].$$"
   ]
  },
  {
   "cell_type": "markdown",
   "id": "43f07614-d685-4c81-ab11-867988323dfe",
   "metadata": {},
   "source": [
    "- On a alors : $$\\displaystyle \\int_{t_n}^{t_{n+1}} y'(t) \\, \\mathrm{d}t = \\int_{t_n}^{t_{n+1}} f(t,y(t)) \\, \\mathrm{d}t, ~ \\forall n \\in \\{0,...,N-1\\}.$$\n",
    "  Ce qui donne : $$y(t_{n+1}) = y(t_n) + \\int_{t_n}^{t_{n+1}} f(t,y(t)) \\, \\mathrm{d}t$$\n",
    "    - On peut alors approcher **$\\displaystyle \\int_{t_n}^{t_{n+1}} f(t,y(t)) \\, \\mathrm{d}t$** par une formule de quadrature."
   ]
  },
  {
   "cell_type": "markdown",
   "id": "ca429a85-283d-4bc0-bb03-66d7554ed8cb",
   "metadata": {},
   "source": [
    "Re-rappel dans notre cas : *(on se fixe une subdivision régulière donc $(t_{n+1} - t_n) = h$ pour tout n)* :\n",
    "- Pour la **méthode des rectangles à gauche** on a $\\displaystyle \\int_{t_n}^{t_{n+1}} f(t,y(t)) \\, \\mathrm{d}t \\approx h.f(t_{n})$\n",
    "    - En cherchant $(y^0,...,y^N)$, telle que $y^{n+1} = y^n + h.f(t_{n})$, on obtient le **schéma d'Euler explicite.** \n"
   ]
  },
  {
   "cell_type": "markdown",
   "id": "2d82b765-0b0a-4639-bf40-25bca30f6736",
   "metadata": {},
   "source": [
    "- Pour la **méthode des rectangles à droite** on a $\\displaystyle \\int_{t_n}^{t_{n+1}} f(t,y(t)) \\, \\mathrm{d}t \\approx h.f(t_{n+1},y(t_{n+1}))$\n",
    "    - En cherchant $(y^0,...,y^N)$, telle que $y^{n+1} = y^n + h.f(t_{n+1},y(t_{n+1}))$, on obtient le **schéma d'Euler implicite.**\n"
   ]
  },
  {
   "cell_type": "markdown",
   "id": "453f7a48-9a31-4ed3-a0de-70f6f7bc9de3",
   "metadata": {},
   "source": [
    "- Pour la **méthode des trapèzes** on a $\\displaystyle \\int_{t_n}^{t_{n+1}} f(t,y(t)) \\, \\mathrm{d}t \\approx \\frac{h}{2}.\\Big(f(t_{n+1},y(t_{n+1}))+f( t_{n},y(t_n)) \\Big)$\n",
    "    - En cherchant $(y^0,...,y^N)$, telle que $y^{n+1} = y^n + \\frac{h}{2}.\\Big(f(t_{n+1},y(t_{n+1}))+f( t_{n},y(t_n)) \\Big) $, on obtient le **schéma de Crank-Nicolson.**\n"
   ]
  },
  {
   "cell_type": "markdown",
   "id": "73e53695-e6f5-468e-8df4-f44e90acbbe9",
   "metadata": {},
   "source": [
    "- Pour la **méthode du point milieu** on a $\\displaystyle \\int_{t_n}^{t_{n+1}} f(t,y(t)) \\, \\mathrm{d}t \\approx h.f \\Big( t_n + \\frac{h}{2} ,y(t_n + \\frac{h}{2}) \\Big)$\n",
    "    - En cherchant $(y^0,...,y^N)$, telle que $y^{n+1} = y^n + h.f \\Big( t_n + \\frac{h}{2} ,y(t_n + \\frac{h}{2}) \\Big)$, on obtient le **schéma du point milieu.**"
   ]
  },
  {
   "cell_type": "markdown",
   "id": "c338a4ab-c57f-4e6f-9cb2-bc3d14ed036d",
   "metadata": {},
   "source": [
    "**Vocabulaire -** On dit que :\n",
    "- La méthode est à **un pas** si $y^n$ se calcul en fonction de la seule valeur antérieure $y^{n-1}$ *($y^0$ étant donné)* ;\n",
    "- La méthode est à **r pas** si $y^n$ se calcul en fonction de $y^{n-1},...,y^{n-r}$, *($y^0,...,y^{n-1}$ étant donné)* ;\n",
    "- La méthode est **explicite** si $y^n$ se calcul explicitement en fonction des valeurs précédentes ;\n",
    "- La méthode est **implicite** si $y^n$ se calcule implicitement en fonction des valeurs précédentes."
   ]
  },
  {
   "cell_type": "markdown",
   "id": "94dfe16f-723e-43fc-b3df-d1b655b50cd4",
   "metadata": {},
   "source": [
    "# III. **Intuition sur la convergence :**"
   ]
  },
  {
   "cell_type": "markdown",
   "id": "aecefbea-f2d5-4ab6-91fd-fd48cf3ba754",
   "metadata": {},
   "source": [
    "### Question :\n",
    "\n",
    "Etant donné une méthode numérique pour approcher la solution $y \\mapsto y(t)$ de **PC** dans l'intervalle $[t_0, t_0 +T]$, que veut dire que la solution approchée $(y^0,..., y^N)_{N \\in \\mathbb{N}}$ converge vers la solution exacte $t \\mapsto y(t)$ ?"
   ]
  },
  {
   "cell_type": "markdown",
   "id": "09e99b67-444c-4aa0-92f6-9444d0a3a26e",
   "metadata": {},
   "source": [
    "Définissons :\n",
    "- l'**erreur locale** : On appelle erreur locale à l'instant $t_n$ la valeur $e_n := y(t_n) - y^n$ ;\n",
    "- l'**erreur globale** : On appelle erreur globale la quantité : $ E_N := max_{n \\in \\{0,...,N\\}} \\mid y(t_n) - y^n \\mid = max_{n \\in \\{0,...,N\\}} \\mid e_n \\mid $ ;\n",
    "- On dit que la méthode **converge** *(ou que le schéma converge)* si $E_N \\to 0$ quand $N \\to \\infty$\n"
   ]
  },
  {
   "cell_type": "markdown",
   "id": "38329437-6d6d-4b27-b546-3d473a2d9d13",
   "metadata": {},
   "source": [
    "### Convergence :\n",
    "\n",
    "- Un schéma va converger si il est **consistant** *(ou cohérant)*, c'est à dire que l'on a remplacée l'EDO $y' = f(t,y)$ par une équation proche (donc de manière consistante) et que l'erreur que l'on commet à chaque instant $t_n$ est petite."
   ]
  },
  {
   "cell_type": "markdown",
   "id": "02e7f725-bfe6-4c0b-9ebc-a2ee34572c21",
   "metadata": {},
   "source": [
    "# IV. **Théorie générale des méthodes explicites à un pas :**"
   ]
  },
  {
   "cell_type": "markdown",
   "id": "f6c2cc25-95a5-41a4-beb7-fc47365674a5",
   "metadata": {},
   "source": [
    "On considère des méthodes explicites à un pas, qui peuvent s'écrire sous la forme :    Pour $n\\in \\mathbb{N}$\n",
    "$$\n",
    "\\begin{cases}\n",
    "  y_0 :~ \\textbf{ donné },\\\\\n",
    "  y^{n+1} = y^n + h \\times \\phi(t_n, y^n, h).\n",
    "\\end{cases}\n",
    "$$\n",
    "Avec $t^n \\in [t_0, t_0 + T]$ et $n \\in \\{0,...,N \\}$ et $\\phi : [t_0, t_0 + T, \\mathbb{R}^n, \\mathbb{R}] \\ to \\mathbb{R}^n$ continue."
   ]
  },
  {
   "cell_type": "markdown",
   "id": "2c0ed8ae-f535-4e2e-9fb5-82b4cc329e3d",
   "metadata": {},
   "source": [
    "### **Exemples :**\n",
    "- Schéma **Euler explicite** : On a $y^{n+1} = y^n + hf(t_n,y^n)$ donc $\\phi(t,y,h) = f(t,y)$\n",
    "- Schéma du **point milieu** : On a $y^{n+1} = y^n + hf(t_n + \\frac{h}{2}, y^n + \\frac{h}{2}f(t_n, y^n))$ d'où $\\phi(t,y,h) = f(t+\\frac{h}{2}, y+ \\frac{h}{2}f(t, y))$"
   ]
  },
  {
   "cell_type": "markdown",
   "id": "47e2e4b5-964c-462f-8ae2-c3cfe9688e8c",
   "metadata": {},
   "source": [
    "## **Objectif :** \n",
    "### Avoir des conditions sous lesquelles une telle méthode converge, c'est à dire sous lesquelles on ait :\n",
    "### $$\\displaystyle \\lim_{N \\to + \\infty}\\Big(max_{n \\in \\{0,...,N\\}} \\| y^n - y(t_n) \\| \\Big) = 0$$"
   ]
  },
  {
   "cell_type": "markdown",
   "id": "414962c3-f405-4539-88ed-fad797f43e25",
   "metadata": {},
   "source": [
    "### Cette convergence va dépendre de deux propriétés du schéma : \n",
    "- **La Consistance :** à chaque itération l'erreur commise est petite ;\n",
    "- **La stabilité :** les erreurs qui se cumulent à chaque itération vont restées controlées."
   ]
  },
  {
   "cell_type": "code",
   "execution_count": null,
   "id": "887ff00d-2a8c-45a5-8807-85f7149b5f51",
   "metadata": {},
   "outputs": [],
   "source": []
  }
 ],
 "metadata": {
  "kernelspec": {
   "display_name": "Python 3 (ipykernel)",
   "language": "python",
   "name": "python3"
  },
  "language_info": {
   "codemirror_mode": {
    "name": "ipython",
    "version": 3
   },
   "file_extension": ".py",
   "mimetype": "text/x-python",
   "name": "python",
   "nbconvert_exporter": "python",
   "pygments_lexer": "ipython3",
   "version": "3.11.6"
  }
 },
 "nbformat": 4,
 "nbformat_minor": 5
}
