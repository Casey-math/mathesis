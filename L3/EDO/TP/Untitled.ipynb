{
 "cells": [
  {
   "cell_type": "code",
   "execution_count": 33,
   "id": "bb3b3af6-c104-474d-91e0-f54233461b40",
   "metadata": {},
   "outputs": [],
   "source": [
    "import function as fn\n",
    "import numpy as np\n",
    "import matplotlib.pyplot as plt"
   ]
  },
  {
   "cell_type": "code",
   "execution_count": 34,
   "id": "14edee7a-be24-49e3-adfd-abd876211b15",
   "metadata": {},
   "outputs": [],
   "source": [
    "y_prime = lambda t,y : np.sin(t*y)"
   ]
  },
  {
   "cell_type": "code",
   "execution_count": 35,
   "id": "007698c9-f714-4780-bdbd-dff16be86159",
   "metadata": {},
   "outputs": [
    {
     "name": "stdout",
     "output_type": "stream",
     "text": [
      "Help on function euler_exp in module function:\n",
      "\n",
      "euler_exp(t0, y0, T, h, f)\n",
      "    cette fonction approche la solution d'un problème de cauchy par la méthode d'Euler explicite\n",
      "    elle mange (t0,y0,T,h,f)\n",
      "    et retourne t, y\n",
      "\n"
     ]
    }
   ],
   "source": [
    "help(fn.euler_exp)"
   ]
  },
  {
   "cell_type": "code",
   "execution_count": 36,
   "id": "b63ac955-ad2a-45df-93d1-f724f18c1424",
   "metadata": {},
   "outputs": [
    {
     "ename": "NameError",
     "evalue": "name 'np' is not defined",
     "output_type": "error",
     "traceback": [
      "\u001b[0;31m---------------------------------------------------------------------------\u001b[0m",
      "\u001b[0;31mNameError\u001b[0m                                 Traceback (most recent call last)",
      "Cell \u001b[0;32mIn[36], line 4\u001b[0m\n\u001b[1;32m      1\u001b[0m t0, y0, T, f, N \u001b[38;5;241m=\u001b[39m \u001b[38;5;241m-\u001b[39m\u001b[38;5;241m5\u001b[39m, \u001b[38;5;241m0\u001b[39m, \u001b[38;5;241m10\u001b[39m, y_prime, \u001b[38;5;241m1000\u001b[39m\n\u001b[1;32m      2\u001b[0m h \u001b[38;5;241m=\u001b[39m T\u001b[38;5;241m/\u001b[39mN\n\u001b[0;32m----> 4\u001b[0m \u001b[43mfn\u001b[49m\u001b[38;5;241;43m.\u001b[39;49m\u001b[43meuler_exp\u001b[49m\u001b[43m(\u001b[49m\u001b[43mt0\u001b[49m\u001b[43m,\u001b[49m\u001b[43m \u001b[49m\u001b[43my0\u001b[49m\u001b[43m,\u001b[49m\u001b[43m \u001b[49m\u001b[43mT\u001b[49m\u001b[43m,\u001b[49m\u001b[43m \u001b[49m\u001b[43mh\u001b[49m\u001b[43m,\u001b[49m\u001b[43m \u001b[49m\u001b[43mf\u001b[49m\u001b[43m)\u001b[49m\n",
      "File \u001b[0;32m~/Documents/mathesis/L3/EDO/TP/function.py:7\u001b[0m, in \u001b[0;36meuler_exp\u001b[0;34m(t0, y0, T, h, f)\u001b[0m\n\u001b[1;32m      1\u001b[0m \u001b[38;5;28;01mdef\u001b[39;00m \u001b[38;5;21meuler_exp\u001b[39m(t0,y0,T,h,f):\n\u001b[1;32m      2\u001b[0m \u001b[38;5;250m    \u001b[39m\u001b[38;5;124;03m\"\"\"\u001b[39;00m\n\u001b[1;32m      3\u001b[0m \u001b[38;5;124;03m    cette fonction approche la solution d'un problème de cauchy par la méthode d'Euler explicite\u001b[39;00m\n\u001b[1;32m      4\u001b[0m \u001b[38;5;124;03m    elle mange (t0,y0,T,h,f)\u001b[39;00m\n\u001b[1;32m      5\u001b[0m \u001b[38;5;124;03m    et retourne t, y\u001b[39;00m\n\u001b[1;32m      6\u001b[0m \u001b[38;5;124;03m    \"\"\"\u001b[39;00m\n\u001b[0;32m----> 7\u001b[0m     t \u001b[38;5;241m=\u001b[39m \u001b[43mnp\u001b[49m\u001b[38;5;241m.\u001b[39marange(t0, t0\u001b[38;5;241m+\u001b[39mT\u001b[38;5;241m+\u001b[39mh,h)\n\u001b[1;32m      8\u001b[0m     y \u001b[38;5;241m=\u001b[39m t\u001b[38;5;241m*\u001b[39m\u001b[38;5;241m0\u001b[39m\n\u001b[1;32m      9\u001b[0m     y[\u001b[38;5;241m0\u001b[39m] \u001b[38;5;241m=\u001b[39m y0\n",
      "\u001b[0;31mNameError\u001b[0m: name 'np' is not defined"
     ]
    }
   ],
   "source": [
    "t0, y0, T, f, N = -5, 0, 10, y_prime, 1000\n",
    "h = T/N\n",
    "\n",
    "fn.euler_exp(t0, y0, T, h, f)"
   ]
  },
  {
   "cell_type": "code",
   "execution_count": 20,
   "id": "eaf57c5b-bf09-4c1e-b91b-d03a99fcf6b9",
   "metadata": {},
   "outputs": [
    {
     "data": {
      "text/plain": [
       "array([0, 1, 2, 3, 4, 5, 6, 7, 8, 9])"
      ]
     },
     "execution_count": 20,
     "metadata": {},
     "output_type": "execute_result"
    }
   ],
   "source": [
    "np.arange(0,10)"
   ]
  },
  {
   "cell_type": "code",
   "execution_count": null,
   "id": "505dd5f9-a5ee-47b2-8a78-463540a7ab4d",
   "metadata": {},
   "outputs": [],
   "source": []
  }
 ],
 "metadata": {
  "kernelspec": {
   "display_name": "Python 3 (ipykernel)",
   "language": "python",
   "name": "python3"
  },
  "language_info": {
   "codemirror_mode": {
    "name": "ipython",
    "version": 3
   },
   "file_extension": ".py",
   "mimetype": "text/x-python",
   "name": "python",
   "nbconvert_exporter": "python",
   "pygments_lexer": "ipython3",
   "version": "3.11.6"
  }
 },
 "nbformat": 4,
 "nbformat_minor": 5
}
