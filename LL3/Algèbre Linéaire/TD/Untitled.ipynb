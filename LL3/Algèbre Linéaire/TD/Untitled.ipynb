{
 "cells": [
  {
   "cell_type": "code",
   "execution_count": 1,
   "id": "3bb259ad-4d97-4d87-8a42-f2d44e826ea8",
   "metadata": {},
   "outputs": [],
   "source": [
    "%display latex"
   ]
  },
  {
   "cell_type": "code",
   "execution_count": 7,
   "id": "6e775745-07d5-45cf-b716-7366dd772645",
   "metadata": {},
   "outputs": [],
   "source": [
    "import numpy as np"
   ]
  },
  {
   "cell_type": "code",
   "execution_count": 2,
   "id": "a0dfd5bb-2974-4c05-9171-fbf0255a6c14",
   "metadata": {},
   "outputs": [
    {
     "data": {
      "text/html": [
       "<html>\\(\\displaystyle \\left(\\begin{array}{rr}\n",
       "1.00000000000000 & 0 \\\\\n",
       "0 & -1.00000000000000\n",
       "\\end{array}\\right)\\)</html>"
      ],
      "text/latex": [
       "$\\displaystyle \\left(\\begin{array}{rr}\n",
       "1.00000000000000 & 0 \\\\\n",
       "0 & -1.00000000000000\n",
       "\\end{array}\\right)$"
      ],
      "text/plain": [
       "[ 1.00000000000000                 0]\n",
       "[                0 -1.00000000000000]"
      ]
     },
     "execution_count": 2,
     "metadata": {},
     "output_type": "execute_result"
    }
   ],
   "source": [
    "A = matrix([[2,0],[0,-.25]])\n",
    "S = matrix([[1/sqrt(2),0],[0,2]])\n",
    "\n",
    "S*A*S"
   ]
  },
  {
   "cell_type": "code",
   "execution_count": null,
   "id": "344b97bd-4e80-4de5-9429-83d79f1313db",
   "metadata": {},
   "outputs": [],
   "source": []
  },
  {
   "cell_type": "code",
   "execution_count": 3,
   "id": "740df5e7-cc3f-4710-b5d3-b462fa31fdc3",
   "metadata": {},
   "outputs": [],
   "source": [
    "M = matrix([[0,-2,1],[-1,-1,1],[-1,-2,2]])"
   ]
  },
  {
   "cell_type": "code",
   "execution_count": 5,
   "id": "02808c87-adf4-4790-8ae2-1e130debf208",
   "metadata": {},
   "outputs": [
    {
     "data": {
      "text/html": [
       "<html>\\(\\displaystyle \\left(\\begin{array}{rrr}\n",
       "1 & 0 & 0 \\\\\n",
       "0 & 1 & 0 \\\\\n",
       "0 & 0 & 1\n",
       "\\end{array}\\right)\\)</html>"
      ],
      "text/latex": [
       "$\\displaystyle \\left(\\begin{array}{rrr}\n",
       "1 & 0 & 0 \\\\\n",
       "0 & 1 & 0 \\\\\n",
       "0 & 0 & 1\n",
       "\\end{array}\\right)$"
      ],
      "text/plain": [
       "[1 0 0]\n",
       "[0 1 0]\n",
       "[0 0 1]"
      ]
     },
     "execution_count": 5,
     "metadata": {},
     "output_type": "execute_result"
    }
   ],
   "source": [
    "M^2"
   ]
  },
  {
   "cell_type": "code",
   "execution_count": 21,
   "id": "7a8e5f14-10a1-43d6-8e3a-de0be4d6bd04",
   "metadata": {},
   "outputs": [],
   "source": [
    "I = matrix.identity(3)"
   ]
  },
  {
   "cell_type": "code",
   "execution_count": 22,
   "id": "d909511c-73cf-416f-b145-4d277aeff20b",
   "metadata": {},
   "outputs": [
    {
     "data": {
      "text/html": [
       "<html>\\(\\displaystyle \\left(\\begin{array}{rrr}\n",
       "1 & 0 & 0 \\\\\n",
       "0 & 1 & 0 \\\\\n",
       "0 & 0 & 1\n",
       "\\end{array}\\right)\\)</html>"
      ],
      "text/latex": [
       "$\\displaystyle \\left(\\begin{array}{rrr}\n",
       "1 & 0 & 0 \\\\\n",
       "0 & 1 & 0 \\\\\n",
       "0 & 0 & 1\n",
       "\\end{array}\\right)$"
      ],
      "text/plain": [
       "[1 0 0]\n",
       "[0 1 0]\n",
       "[0 0 1]"
      ]
     },
     "execution_count": 22,
     "metadata": {},
     "output_type": "execute_result"
    }
   ],
   "source": [
    "I"
   ]
  },
  {
   "cell_type": "code",
   "execution_count": 25,
   "id": "97e151b2-8fe0-47d9-bc8c-c16757aba848",
   "metadata": {},
   "outputs": [
    {
     "data": {
      "text/html": [
       "<html>\\(\\displaystyle \\left(\\begin{array}{rrr}\n",
       "1 & 2 & -1 \\\\\n",
       "1 & 2 & -1 \\\\\n",
       "1 & 2 & -1\n",
       "\\end{array}\\right)\\)</html>"
      ],
      "text/latex": [
       "$\\displaystyle \\left(\\begin{array}{rrr}\n",
       "1 & 2 & -1 \\\\\n",
       "1 & 2 & -1 \\\\\n",
       "1 & 2 & -1\n",
       "\\end{array}\\right)$"
      ],
      "text/plain": [
       "[ 1  2 -1]\n",
       "[ 1  2 -1]\n",
       "[ 1  2 -1]"
      ]
     },
     "execution_count": 25,
     "metadata": {},
     "output_type": "execute_result"
    }
   ],
   "source": [
    "M_prime = I-M\n",
    "\n",
    "M_prime"
   ]
  },
  {
   "cell_type": "code",
   "execution_count": 26,
   "id": "5c86bbf8-da3c-42dc-835f-059b74ec3ede",
   "metadata": {},
   "outputs": [],
   "source": [
    "var('x,y,z')\n",
    "X = vector([x,y,z])"
   ]
  },
  {
   "cell_type": "code",
   "execution_count": 27,
   "id": "a93381e1-6f97-4944-ad91-b3c29721f4ae",
   "metadata": {},
   "outputs": [
    {
     "data": {
      "text/html": [
       "<html>\\(\\displaystyle \\left(x + 2 \\, y - z,\\,x + 2 \\, y - z,\\,x + 2 \\, y - z\\right)\\)</html>"
      ],
      "text/latex": [
       "$\\displaystyle \\left(x + 2 \\, y - z,\\,x + 2 \\, y - z,\\,x + 2 \\, y - z\\right)$"
      ],
      "text/plain": [
       "(x + 2*y - z, x + 2*y - z, x + 2*y - z)"
      ]
     },
     "execution_count": 27,
     "metadata": {},
     "output_type": "execute_result"
    }
   ],
   "source": [
    "M_prime*X"
   ]
  },
  {
   "cell_type": "code",
   "execution_count": null,
   "id": "ef7953f9-9793-458c-b1db-052054050026",
   "metadata": {},
   "outputs": [],
   "source": []
  }
 ],
 "metadata": {
  "kernelspec": {
   "display_name": "SageMath 10.0",
   "language": "sage",
   "name": "sagemath"
  },
  "language_info": {
   "codemirror_mode": {
    "name": "ipython",
    "version": 3
   },
   "file_extension": ".py",
   "mimetype": "text/x-python",
   "name": "python",
   "nbconvert_exporter": "python",
   "pygments_lexer": "ipython3",
   "version": "3.11.6"
  }
 },
 "nbformat": 4,
 "nbformat_minor": 5
}
