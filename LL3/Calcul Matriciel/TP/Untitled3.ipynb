{
 "cells": [
  {
   "cell_type": "code",
   "execution_count": 117,
   "id": "3e786947-beba-4403-af06-23482a164bef",
   "metadata": {},
   "outputs": [],
   "source": [
    "import numpy as np\n",
    "import matplotlib.pyplot as plt"
   ]
  },
  {
   "cell_type": "code",
   "execution_count": 118,
   "id": "a42842ad-e01c-4e60-88a2-ab6206a3a789",
   "metadata": {},
   "outputs": [],
   "source": [
    "import time"
   ]
  },
  {
   "cell_type": "code",
   "execution_count": 119,
   "id": "b6008eff-2939-4239-8601-40cc4e1384d3",
   "metadata": {},
   "outputs": [],
   "source": [
    "def isprime(n):\n",
    "\n",
    "    start = time.time()\n",
    "    if n == 2:\n",
    "        return True\n",
    "    elif n%2 == 0 or n == 1 :\n",
    "        return False\n",
    "    max = int(np.sqrt(n)+1)\n",
    "    for i in range(3,max, 2):\n",
    "        if n%i == 0:\n",
    "            end = time.time()\n",
    "            return False\n",
    "    else:\n",
    "        end = time.time()\n",
    "        return True"
   ]
  },
  {
   "cell_type": "code",
   "execution_count": 152,
   "id": "16195441-44c0-4deb-80e0-384405e3ecee",
   "metadata": {},
   "outputs": [
    {
     "name": "stdout",
     "output_type": "stream",
     "text": [
      "0.04270434379577637\n"
     ]
    }
   ],
   "source": [
    "start = time.time()\n",
    "nb = 10000\n",
    "l = []\n",
    "for i in range(nb) :\n",
    "    if isprime(i) :\n",
    "        l.append(i)\n",
    "end = time.time()\n",
    "print(end-start)"
   ]
  },
  {
   "cell_type": "code",
   "execution_count": 153,
   "id": "84ae72f3-8f1b-4d5e-af72-c9f0c2df7d38",
   "metadata": {},
   "outputs": [],
   "source": [
    "x = np.arange(0,len(l))\n",
    "y = np.array(l)\n",
    "\n",
    "#plt.figure(figsize = (15,5))\n",
    "\n",
    "#plt.scatter(x,y, linewidth=.2, marker='*')"
   ]
  },
  {
   "cell_type": "code",
   "execution_count": 154,
   "id": "95c88b5c-3efa-403c-9927-c7386312521e",
   "metadata": {},
   "outputs": [
    {
     "data": {
      "image/png": "[encoded data removed]",
      "text/plain": [
       "<Figure size 640x480 with 1 Axes>"
      ]
     },
     "metadata": {},
     "output_type": "display_data"
    },
    {
     "name": "stdout",
     "output_type": "stream",
     "text": [
      "valeur max : 36\n"
     ]
    }
   ],
   "source": [
    "# Création de l'histogramme\n",
    "diff = np.diff(y)\n",
    "plt.hist(diff, bins=50, color='gray', edgecolor='black')\n",
    "\n",
    "# Ajout de labels et de titres\n",
    "plt.xlabel('Valeurs')\n",
    "plt.ylabel('Fréquence')\n",
    "plt.title(f\"Histogramme de l'écart entre deux nombres premiers pour les {nb} premiers nombres premiers\")\n",
    "\n",
    "# Affichage de l'histogramme\n",
    "plt.show()\n",
    "print(f\"valeur max : {np.max(diff)}\")"
   ]
  },
  {
   "cell_type": "code",
   "execution_count": 155,
   "id": "df1fe5dc-61d8-41d6-bf6e-c669192f6c6d",
   "metadata": {},
   "outputs": [
    {
     "name": "stdout",
     "output_type": "stream",
     "text": [
      "Nombre\tFréquence\n",
      "-----------------\n",
      "1\t1\n",
      "2\t205\n",
      "4\t202\n",
      "6\t299\n",
      "8\t101\n",
      "10\t119\n",
      "12\t105\n",
      "14\t54\n",
      "16\t33\n",
      "18\t40\n",
      "20\t15\n",
      "22\t16\n",
      "24\t15\n",
      "26\t3\n",
      "28\t5\n",
      "30\t11\n",
      "32\t1\n",
      "34\t2\n",
      "36\t1\n"
     ]
    }
   ],
   "source": [
    "# Utilisation de numpy.unique pour obtenir les valeurs uniques et leurs fréquences\n",
    "valeurs_uniques, frequences = np.unique(diff, return_counts=True)\n",
    "\n",
    "# Création d'un tableau pour stocker les résultats\n",
    "resultats = np.column_stack((valeurs_uniques, frequences))\n",
    "\n",
    "# Affichage des résultats\n",
    "print(\"Nombre\\tFréquence\")\n",
    "print(\"-----------------\")\n",
    "for ligne in resultats:\n",
    "    print(f\"{int(ligne[0])}\\t{int(ligne[1])}\")"
   ]
  },
  {
   "cell_type": "code",
   "execution_count": 150,
   "id": "578c0987-3c22-4744-9e6e-8d2fc2089c88",
   "metadata": {},
   "outputs": [
    {
     "name": "stdout",
     "output_type": "stream",
     "text": [
      "Nombre\tFréquence\n",
      "-----------------\n",
      "6\t99987\n",
      "12\t65513\n",
      "2\t58980\n",
      "4\t58621\n",
      "10\t54431\n",
      "18\t43851\n",
      "8\t42352\n",
      "14\t35394\n",
      "24\t27170\n",
      "16\t25099\n",
      "20\t22084\n",
      "30\t21741\n",
      "22\t19451\n",
      "28\t13255\n",
      "26\t12249\n",
      "36\t10194\n",
      "42\t7180\n",
      "34\t6721\n",
      "32\t6364\n",
      "40\t5318\n",
      "38\t4498\n",
      "48\t3784\n",
      "44\t2779\n",
      "54\t2403\n",
      "46\t2326\n",
      "50\t2048\n",
      "60\t1834\n",
      "52\t1449\n",
      "56\t1072\n",
      "58\t1052\n",
      "66\t973\n",
      "64\t559\n",
      "62\t543\n",
      "70\t524\n",
      "72\t468\n",
      "78\t362\n",
      "68\t358\n",
      "84\t247\n",
      "74\t218\n",
      "76\t194\n",
      "80\t165\n",
      "90\t141\n",
      "82\t100\n",
      "88\t71\n",
      "86\t66\n",
      "96\t65\n",
      "94\t39\n",
      "92\t37\n",
      "100\t36\n",
      "102\t34\n",
      "98\t29\n",
      "108\t26\n",
      "104\t21\n",
      "106\t12\n",
      "110\t11\n",
      "112\t11\n",
      "114\t11\n",
      "120\t10\n",
      "126\t8\n",
      "116\t7\n",
      "132\t5\n",
      "118\t4\n",
      "124\t4\n",
      "122\t3\n",
      "140\t2\n",
      "148\t2\n",
      "128\t2\n",
      "136\t2\n",
      "138\t2\n",
      "146\t1\n",
      "1\t1\n",
      "130\t1\n",
      "152\t1\n",
      "134\t1\n",
      "154\t1\n"
     ]
    }
   ],
   "source": [
    "# Utilisation de numpy.unique pour obtenir les valeurs uniques et leurs fréquences\n",
    "valeurs_uniques, frequences = np.unique(diff, return_counts=True)\n",
    "\n",
    "# Obtenir les indices pour trier les fréquences dans l'ordre décroissant\n",
    "indices_tries = np.argsort(-frequences)\n",
    "\n",
    "# Trier les valeurs uniques et les fréquences en fonction des indices triés\n",
    "valeurs_uniques_triees = valeurs_uniques[indices_tries]\n",
    "frequences_triees = frequences[indices_tries]\n",
    "\n",
    "# Création d'un tableau pour stocker les résultats\n",
    "resultats = np.column_stack((valeurs_uniques_triees, frequences_triees))\n",
    "\n",
    "# Affichage des résultats\n",
    "print(\"Nombre\\tFréquence\")\n",
    "print(\"-----------------\")\n",
    "for ligne in resultats:\n",
    "    print(f\"{int(ligne[0])}\\t{int(ligne[1])}\")\n"
   ]
  },
  {
   "cell_type": "code",
   "execution_count": null,
   "id": "79e4ea4c-eb3a-4cab-88d7-dfe787659c42",
   "metadata": {},
   "outputs": [],
   "source": []
  }
 ],
 "metadata": {
  "kernelspec": {
   "display_name": "Python 3 (ipykernel)",
   "language": "python",
   "name": "python3"
  },
  "language_info": {
   "codemirror_mode": {
    "name": "ipython",
    "version": 3
   },
   "file_extension": ".py",
   "mimetype": "text/x-python",
   "name": "python",
   "nbconvert_exporter": "python",
   "pygments_lexer": "ipython3",
   "version": "3.10.12"
  }
 },
 "nbformat": 4,
 "nbformat_minor": 5
}
